{
 "metadata": {
  "name": ""
 },
 "nbformat": 3,
 "nbformat_minor": 0,
 "worksheets": [
  {
   "cells": [
    {
     "cell_type": "markdown",
     "metadata": {},
     "source": [
      "#Analyze EEG data in python "
     ]
    },
    {
     "cell_type": "code",
     "collapsed": false,
     "input": [
      "%matplotlib inline\n",
      "%run EEG.py"
     ],
     "language": "python",
     "metadata": {},
     "outputs": [],
     "prompt_number": 1
    },
    {
     "cell_type": "markdown",
     "metadata": {},
     "source": [
      "Initialize an empty dataset"
     ]
    },
    {
     "cell_type": "code",
     "collapsed": false,
     "input": [
      "a = EEG_dataset()"
     ],
     "language": "python",
     "metadata": {},
     "outputs": [],
     "prompt_number": 2
    },
    {
     "cell_type": "code",
     "collapsed": false,
     "input": [
      "print(a.data)\n",
      "print(a.times)"
     ],
     "language": "python",
     "metadata": {},
     "outputs": [
      {
       "output_type": "stream",
       "stream": "stdout",
       "text": [
        "None\n",
        "[-200 -198 -196 -194 -192 -190 -188 -186 -184 -182 -180 -178 -176 -174 -172\n",
        " -170 -168 -166 -164 -162 -160 -158 -156 -154 -152 -150 -148 -146 -144 -142\n",
        " -140 -138 -136 -134 -132 -130 -128 -126 -124 -122 -120 -118 -116 -114 -112\n",
        " -110 -108 -106 -104 -102 -100  -98  -96  -94  -92  -90  -88  -86  -84  -82\n",
        "  -80  -78  -76  -74  -72  -70  -68  -66  -64  -62  -60  -58  -56  -54  -52\n",
        "  -50  -48  -46  -44  -42  -40  -38  -36  -34  -32  -30  -28  -26  -24  -22\n",
        "  -20  -18  -16  -14  -12  -10   -8   -6   -4   -2    0    2    4    6    8\n",
        "   10   12   14   16   18   20   22   24   26   28   30   32   34   36   38\n",
        "   40   42   44   46   48   50   52   54   56   58   60   62   64   66   68\n",
        "   70   72   74   76   78   80   82   84   86   88   90   92   94   96   98\n",
        "  100  102  104  106  108  110  112  114  116  118  120  122  124  126  128\n",
        "  130  132  134  136  138  140  142  144  146  148  150  152  154  156  158\n",
        "  160  162  164  166  168  170  172  174  176  178  180  182  184  186  188\n",
        "  190  192  194  196  198  200  202  204  206  208  210  212  214  216  218\n",
        "  220  222  224  226  228  230  232  234  236  238  240  242  244  246  248\n",
        "  250  252  254  256  258  260  262  264  266  268  270  272  274  276  278\n",
        "  280  282  284  286  288  290  292  294  296  298  300  302  304  306  308\n",
        "  310  312  314  316  318  320  322  324  326  328  330  332  334  336  338\n",
        "  340  342  344  346  348  350  352  354  356  358  360  362  364  366  368\n",
        "  370  372  374  376  378  380  382  384  386  388  390  392  394  396  398\n",
        "  400  402  404  406  408  410  412  414  416  418  420  422  424  426  428\n",
        "  430  432  434  436  438  440  442  444  446  448  450  452  454  456  458\n",
        "  460  462  464  466  468  470  472  474  476  478  480  482  484  486  488\n",
        "  490  492  494  496  498  500  502  504  506  508  510  512  514  516  518\n",
        "  520  522  524  526  528  530  532  534  536  538  540  542  544  546  548\n",
        "  550  552  554  556  558  560  562  564  566  568  570  572  574  576  578\n",
        "  580  582  584  586  588  590  592  594  596  598  600  602  604  606  608\n",
        "  610  612  614  616  618  620  622  624  626  628  630  632  634  636  638\n",
        "  640  642  644  646  648  650  652  654  656  658  660  662  664  666  668\n",
        "  670  672  674  676  678  680  682  684  686  688  690  692  694  696  698\n",
        "  700  702  704  706  708  710  712  714  716  718  720  722  724  726  728\n",
        "  730  732  734  736  738  740  742  744  746  748  750  752  754  756  758\n",
        "  760  762  764  766  768  770  772  774  776  778  780  782  784  786  788\n",
        "  790  792  794  796  798]\n"
       ]
      }
     ],
     "prompt_number": 20
    },
    {
     "cell_type": "code",
     "collapsed": false,
     "input": [
      "a.read_data('Test_data.csv')"
     ],
     "language": "python",
     "metadata": {},
     "outputs": [],
     "prompt_number": 3
    },
    {
     "cell_type": "code",
     "collapsed": false,
     "input": [
      "print(a.data)"
     ],
     "language": "python",
     "metadata": {},
     "outputs": [
      {
       "output_type": "stream",
       "stream": "stdout",
       "text": [
        "[[ 0.08994549  0.57657862  0.83505074 ...,  0.34459462  0.42468498\n",
        "   0.08894963]\n",
        " [ 0.99674701  0.82269036  0.59330402 ...,  0.91465606  0.22457847\n",
        "   0.29408435]\n",
        " [ 0.82689396  0.15759848  0.24897085 ...,  0.28515194  0.04632308\n",
        "   0.60716598]\n",
        " ..., \n",
        " [ 0.1147661   0.82020198  0.15024831 ...,  0.15554524  0.53520628\n",
        "   0.64645834]\n",
        " [ 0.55043133  0.50544307  0.71443722 ...,  0.79323909  0.07285445\n",
        "   0.8439967 ]\n",
        " [ 0.99742985  0.75272636  0.9272882  ...,  0.12496236  0.16685394\n",
        "   0.50630736]]\n"
       ]
      }
     ],
     "prompt_number": 4
    },
    {
     "cell_type": "markdown",
     "metadata": {},
     "source": [
      "## Plot stuff\n",
      "\n",
      "Note to self: pandas and ggplot for R style data!\n",
      "\n",
      "### Usual Lineplot"
     ]
    },
    {
     "cell_type": "code",
     "collapsed": false,
     "input": [
      "import matplotlib.pyplot as plt\n",
      "import matplotlib.patches as patches"
     ],
     "language": "python",
     "metadata": {},
     "outputs": [],
     "prompt_number": 27
    },
    {
     "cell_type": "code",
     "collapsed": false,
     "input": [
      "fig = plt.figure()\n",
      "ax1 = fig.add_subplot(221)\n",
      "plt.title('Lineplot')\n",
      "ax1.fill_between(a.times,a.data[1,:],-2, facecolor=[.6,.6,.6], edgecolor=[.6,.6,.6],zorder=2)\n",
      "ax1.add_patch(patches.Rectangle((200, -2),100,4, facecolor=[.8,.8,.8], edgecolor=[.8,.8,.8],zorder=1))\n",
      "l1 = plt.plot(a.times,a.data[1,:],'r-',zorder=3)\n",
      "l2 = plt.plot(a.times,a.data[2,:],'k-',zorder=3)\n",
      "plt.ylim(-2,2)\n",
      "plt.xlim(-200,800)\n",
      "plt.legend(handles=[l1, l2])\n",
      "plt.subplot(222)\n",
      "plt.plot([1,2,3,4])\n",
      "\n",
      "#plt.ylabel('Amplitude [\u00b5V]')\n",
      "#plt.xlabel('Time since stimulus onset [ms]')\n",
      "#plt.show()"
     ],
     "language": "python",
     "metadata": {},
     "outputs": [
      {
       "metadata": {},
       "output_type": "pyout",
       "prompt_number": 37,
       "text": [
        "[<matplotlib.lines.Line2D at 0x7fbb1f8e42d0>]"
       ]
      },
      {
       "metadata": {},
       "output_type": "display_data",
       "png": "[encoded data removed]",
       "text": [
        "<matplotlib.figure.Figure at 0x7fbb1fd70710>"
       ]
      }
     ],
     "prompt_number": 37
    },
    {
     "cell_type": "markdown",
     "metadata": {},
     "source": [
      "### Save Figures"
     ]
    },
    {
     "cell_type": "code",
     "collapsed": false,
     "input": [
      "fig.savefig('Test.png', dpi=90, bbox_inches='tight')"
     ],
     "language": "python",
     "metadata": {},
     "outputs": [],
     "prompt_number": 38
    },
    {
     "cell_type": "code",
     "collapsed": false,
     "input": [],
     "language": "python",
     "metadata": {},
     "outputs": []
    }
   ],
   "metadata": {}
  }
 ]
}