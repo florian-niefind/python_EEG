{
 "metadata": {
  "name": ""
 },
 "nbformat": 3,
 "nbformat_minor": 0,
 "worksheets": [
  {
   "cells": [
    {
     "cell_type": "code",
     "collapsed": false,
     "input": [
      "%run EEG.py"
     ],
     "language": "python",
     "metadata": {},
     "outputs": [],
     "prompt_number": 40
    },
    {
     "cell_type": "code",
     "collapsed": false,
     "input": [
      "a = EEG_dataset()"
     ],
     "language": "python",
     "metadata": {},
     "outputs": [],
     "prompt_number": 41
    },
    {
     "cell_type": "code",
     "collapsed": false,
     "input": [
      "print(a.data)\n",
      "print(a.channels)"
     ],
     "language": "python",
     "metadata": {},
     "outputs": [
      {
       "output_type": "stream",
       "stream": "stdout",
       "text": [
        "None\n",
        "{'Cz': (2, 2), 'F3': (1, 1), 'F4': (1, 3), 'P4': (3, 3), 'Pz': (2, 2), 'P3': (3, 1), 'C3': (2, 1), 'Fz': (1, 2), 'C4': (2, 3)}\n"
       ]
      }
     ],
     "prompt_number": 42
    },
    {
     "cell_type": "code",
     "collapsed": false,
     "input": [
      "a.read_data('Test_data.csv')"
     ],
     "language": "python",
     "metadata": {},
     "outputs": [],
     "prompt_number": 43
    },
    {
     "cell_type": "code",
     "collapsed": false,
     "input": [
      "print(a.data)"
     ],
     "language": "python",
     "metadata": {},
     "outputs": [
      {
       "output_type": "stream",
       "stream": "stdout",
       "text": [
        "[[ 0.09576808  0.37625463  0.55268633  0.38006389  0.10130904  0.83131705\n",
        "   0.06028381  0.08749417  0.06273404  0.88126771]\n",
        " [ 0.22731979  0.05373405  0.943547    0.2677477   0.63037635  0.95136623\n",
        "   0.66050197  0.6081596   0.67011262  0.52292133]\n",
        " [ 0.83838653  0.49771823  0.85348141  0.22362685  0.60239332  0.89685929\n",
        "   0.25066783  0.82431903  0.77191565  0.17662757]\n",
        " [ 0.15447988  0.56380218  0.8183652   0.43036625  0.96331856  0.97907168\n",
        "   0.36826641  0.48314466  0.88877939  0.45700291]\n",
        " [ 0.3858676   0.14706478  0.89571401  0.80184993  0.85469888  0.42976226\n",
        "   0.74257678  0.25471424  0.73578786  0.47369782]\n",
        " [ 0.09576808  0.37625463  0.55268633  0.38006389  0.10130904  0.83131705\n",
        "   0.06028381  0.08749417  0.06273404  0.88126771]\n",
        " [ 0.22731979  0.05373405  0.943547    0.2677477   0.63037635  0.95136623\n",
        "   0.66050197  0.6081596   0.67011262  0.52292133]\n",
        " [ 0.83838653  0.49771823  0.85348141  0.22362685  0.60239332  0.89685929\n",
        "   0.25066783  0.82431903  0.77191565  0.17662757]\n",
        " [ 0.15447988  0.56380218  0.8183652   0.43036625  0.96331856  0.97907168\n",
        "   0.36826641  0.48314466  0.88877939  0.45700291]]\n"
       ]
      }
     ],
     "prompt_number": 44
    },
    {
     "cell_type": "code",
     "collapsed": false,
     "input": [],
     "language": "python",
     "metadata": {},
     "outputs": []
    }
   ],
   "metadata": {}
  }
 ]
}