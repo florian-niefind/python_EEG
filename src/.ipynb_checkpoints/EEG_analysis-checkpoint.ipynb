{
 "metadata": {
  "name": ""
 },
 "nbformat": 3,
 "nbformat_minor": 0,
 "worksheets": [
  {
   "cells": [
    {
     "cell_type": "markdown",
     "metadata": {},
     "source": [
      "#Analyze EEG data in python "
     ]
    },
    {
     "cell_type": "code",
     "collapsed": false,
     "input": [
      "%matplotlib inline\n",
      "%run EEG.py\n",
      "#%load -s EEG_dataset EEG.py #should work but does not recognize -s option"
     ],
     "language": "python",
     "metadata": {},
     "outputs": [],
     "prompt_number": 20
    },
    {
     "cell_type": "markdown",
     "metadata": {},
     "source": [
      "## Minimal test example for a dataset object for a single subject.\n",
      "\n",
      "Initialize an empty dataset"
     ]
    },
    {
     "cell_type": "code",
     "collapsed": false,
     "input": [
      "a = EEG_dataset()\n",
      "a.read_data('Test_data.csv')\n",
      "print(a.data)"
     ],
     "language": "python",
     "metadata": {},
     "outputs": [],
     "prompt_number": 4
    },
    {
     "cell_type": "markdown",
     "metadata": {},
     "source": [
      "## Load grand average\n",
      "\n",
      "Minimal working example for grand average data that were actually processed in MATLAB."
     ]
    },
    {
     "cell_type": "code",
     "collapsed": false,
     "input": [
      "gavg = EEG_grand_average()\n",
      "gavg.read_data('subavg_analyzer.mat')"
     ],
     "language": "python",
     "metadata": {},
     "outputs": [],
     "prompt_number": 52
    },
    {
     "cell_type": "markdown",
     "metadata": {},
     "source": [
      "## Plot stuff\n",
      "\n",
      "Note to self: pandas and ggplot for R style data!\n",
      "\n",
      "### Usual Lineplot"
     ]
    },
    {
     "cell_type": "code",
     "collapsed": false,
     "input": [
      "import matplotlib.pyplot as plt\n",
      "import matplotlib.patches as patches"
     ],
     "language": "python",
     "metadata": {},
     "outputs": [],
     "prompt_number": 38
    },
    {
     "cell_type": "code",
     "collapsed": false,
     "input": [
      "fig = plt.figure()\n",
      "\n",
      "### Panel 1\n",
      "ax1 = fig.add_subplot(221)\n",
      "plt.title('Asso')\n",
      "\n",
      "c1 = np.mean(gavg.data[36,:,0,:], axis = 1)\n",
      "c2 = np.mean(gavg.data[36,:,1,:], axis = 1)\n",
      "diff = c1-c2\n",
      "\n",
      "ax1.fill_between(gavg.times,abs(diff)-6,-6, facecolor=[.6,.6,.6], edgecolor=[.6,.6,.6],zorder=2, label='Difference')\n",
      "ax1.add_patch(patches.Rectangle((200, -6),100,12, facecolor=[.8,.8,.8], edgecolor=[.8,.8,.8],zorder=1))\n",
      "l1 = plt.plot(gavg.times,c1,'r-',zorder=3,label='Pos')\n",
      "l2 = plt.plot(gavg.times,c2,'k-',zorder=3,label='Neut')\n",
      "plt.ylim(-6,6)\n",
      "plt.xlim(-200,1000)\n",
      "#plt.legend(handles=[l1, l2])\n",
      "plt.ylabel('Amplitude [muV]')\n",
      "plt.xlabel('Time since stimulus onset [ms]')\n",
      "\n",
      "### Panel 2\n",
      "ax2 = fig.add_subplot(222)\n",
      "plt.title('Emo')\n",
      "\n",
      "c1 = np.mean(gavg.data[36,:,3,:], axis = 1)\n",
      "c2 = np.mean(gavg.data[36,:,4,:], axis = 1)\n",
      "diff = c1-c2\n",
      "\n",
      "ax2.fill_between(gavg.times,abs(diff)-6,-6, facecolor=[.6,.6,.6], edgecolor=[.6,.6,.6],zorder=2, label='Difference')\n",
      "ax2.add_patch(patches.Rectangle((200, -6),100,12, facecolor=[.8,.8,.8], edgecolor=[.8,.8,.8],zorder=1))\n",
      "l1 = plt.plot(gavg.times,c1,'r-',zorder=3,label='Pos')\n",
      "l2 = plt.plot(gavg.times,c2,'k-',zorder=3,label='Neut')\n",
      "plt.ylim(-6,6)\n",
      "plt.xlim(-200,1000)\n",
      "\n",
      "plt.ylabel('Amplitude [muV]')\n",
      "plt.xlabel('Time since stimulus onset [ms]')\n",
      "#plt.show()"
     ],
     "language": "python",
     "metadata": {},
     "outputs": [
      {
       "metadata": {},
       "output_type": "pyout",
       "prompt_number": 65,
       "text": [
        "<matplotlib.text.Text at 0x7f509dafcd10>"
       ]
      },
      {
       "metadata": {},
       "output_type": "display_data",
       "png": "[encoded data removed]",
       "text": [
        "<matplotlib.figure.Figure at 0x7f509db62610>"
       ]
      }
     ],
     "prompt_number": 65
    },
    {
     "cell_type": "markdown",
     "metadata": {},
     "source": [
      "### Save Figures"
     ]
    },
    {
     "cell_type": "code",
     "collapsed": false,
     "input": [
      "fig.savefig('Test.png', dpi=90, bbox_inches='tight')"
     ],
     "language": "python",
     "metadata": {},
     "outputs": [],
     "prompt_number": 66
    },
    {
     "cell_type": "code",
     "collapsed": false,
     "input": [],
     "language": "python",
     "metadata": {},
     "outputs": []
    }
   ],
   "metadata": {}
  }
 ]
}